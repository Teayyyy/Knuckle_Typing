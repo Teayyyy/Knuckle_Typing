{
 "cells": [
  {
   "cell_type": "markdown",
   "source": [
    "# 用于读取图片，并且找到其 Landmark"
   ],
   "metadata": {
    "collapsed": false
   }
  },
  {
   "cell_type": "code",
   "execution_count": 5,
   "outputs": [],
   "source": [
    "import os\n",
    "import cv2\n",
    "import mediapipe as mp\n",
    "from tensorflow.python.keras.models import load_model\n",
    "img_path = 'Hand_Paths'"
   ],
   "metadata": {
    "collapsed": false,
    "ExecuteTime": {
     "end_time": "2023-06-09T16:25:36.492676Z",
     "start_time": "2023-06-09T16:25:36.058036Z"
    }
   }
  },
  {
   "cell_type": "code",
   "execution_count": 6,
   "outputs": [],
   "source": [
    "hand_pic_file = []\n",
    "for dir in os.listdir(img_path):\n",
    "    hand_pic_file.append(img_path + '/' + dir)"
   ],
   "metadata": {
    "collapsed": false,
    "ExecuteTime": {
     "end_time": "2023-06-09T16:25:36.495678Z",
     "start_time": "2023-06-09T16:25:36.493856Z"
    }
   }
  },
  {
   "cell_type": "code",
   "execution_count": 8,
   "outputs": [],
   "source": [
    "# Initialize mediapipe\n",
    "mp_hands = mp.solutions.hands\n",
    "hands = mp_hands.Hands(max_num_hands=1, min_detection_confidence=0.7)"
   ],
   "metadata": {
    "collapsed": false,
    "ExecuteTime": {
     "end_time": "2023-06-09T16:26:34.510204Z",
     "start_time": "2023-06-09T16:26:34.508740Z"
    }
   }
  },
  {
   "cell_type": "code",
   "execution_count": 15,
   "outputs": [],
   "source": [
    "# Recognize Image and process hand landmark\n",
    "def gen_landmark(img_path):\n",
    "    img = cv2.imread(img_path, cv2.IMREAD_COLOR)\n",
    "    img = cv2.cvtColor(img, cv2.COLOR_BGRA2RGB)\n",
    "    result = hands.process(img)\n",
    "    landmark = []\n",
    "    if result.multi_hand_landmarks:\n",
    "        for handds_lmd in result.multi_hand_landmarks:\n",
    "            for lm in handds_lmd.landmark:\n",
    "                landmark.append([lm.x, lm.y])\n",
    "    return landmark"
   ],
   "metadata": {
    "collapsed": false,
    "ExecuteTime": {
     "end_time": "2023-06-09T16:35:05.172957Z",
     "start_time": "2023-06-09T16:35:05.169769Z"
    }
   }
  },
  {
   "cell_type": "code",
   "execution_count": 16,
   "outputs": [],
   "source": [
    "import pandas as pd"
   ],
   "metadata": {
    "collapsed": false,
    "ExecuteTime": {
     "end_time": "2023-06-09T16:35:05.590407Z",
     "start_time": "2023-06-09T16:35:05.587350Z"
    }
   }
  },
  {
   "cell_type": "code",
   "execution_count": 17,
   "outputs": [
    {
     "data": {
      "text/plain": "                    path  label\n0   Hand_Images/9/63.jpg      9\n1  Hand_Images/9/189.jpg      9\n2   Hand_Images/9/77.jpg      9\n3  Hand_Images/9/162.jpg      9",
      "text/html": "<div>\n<style scoped>\n    .dataframe tbody tr th:only-of-type {\n        vertical-align: middle;\n    }\n\n    .dataframe tbody tr th {\n        vertical-align: top;\n    }\n\n    .dataframe thead th {\n        text-align: right;\n    }\n</style>\n<table border=\"1\" class=\"dataframe\">\n  <thead>\n    <tr style=\"text-align: right;\">\n      <th></th>\n      <th>path</th>\n      <th>label</th>\n    </tr>\n  </thead>\n  <tbody>\n    <tr>\n      <th>0</th>\n      <td>Hand_Images/9/63.jpg</td>\n      <td>9</td>\n    </tr>\n    <tr>\n      <th>1</th>\n      <td>Hand_Images/9/189.jpg</td>\n      <td>9</td>\n    </tr>\n    <tr>\n      <th>2</th>\n      <td>Hand_Images/9/77.jpg</td>\n      <td>9</td>\n    </tr>\n    <tr>\n      <th>3</th>\n      <td>Hand_Images/9/162.jpg</td>\n      <td>9</td>\n    </tr>\n  </tbody>\n</table>\n</div>"
     },
     "execution_count": 17,
     "metadata": {},
     "output_type": "execute_result"
    }
   ],
   "source": [
    "temp_df = pd.read_csv('Hand_Paths/hand_image_path2.csv', header=None, names = ['path', 'label'])\n",
    "temp_df.head(4)"
   ],
   "metadata": {
    "collapsed": false,
    "ExecuteTime": {
     "end_time": "2023-06-09T16:35:06.012465Z",
     "start_time": "2023-06-09T16:35:06.007937Z"
    }
   }
  },
  {
   "cell_type": "code",
   "execution_count": 18,
   "outputs": [],
   "source": [
    "temp_df['landmarks'] = temp_df['path'].apply(gen_landmark)"
   ],
   "metadata": {
    "collapsed": false,
    "ExecuteTime": {
     "end_time": "2023-06-09T16:35:11.324130Z",
     "start_time": "2023-06-09T16:35:06.731522Z"
    }
   }
  },
  {
   "cell_type": "code",
   "execution_count": 19,
   "outputs": [
    {
     "data": {
      "text/plain": "                    path  label  \\\n0   Hand_Images/9/63.jpg      9   \n1  Hand_Images/9/189.jpg      9   \n2   Hand_Images/9/77.jpg      9   \n3  Hand_Images/9/162.jpg      9   \n4  Hand_Images/9/176.jpg      9   \n\n                                           landmarks  \n0  [[0.5170580744743347, 0.809934139251709], [0.6...  \n1  [[0.5248645544052124, 0.803929328918457], [0.6...  \n2  [[0.456834077835083, 0.8089044094085693], [0.4...  \n3  [[0.4713541269302368, 0.8116728067398071], [0....  \n4  [[0.49221348762512207, 0.8127002716064453], [0...  ",
      "text/html": "<div>\n<style scoped>\n    .dataframe tbody tr th:only-of-type {\n        vertical-align: middle;\n    }\n\n    .dataframe tbody tr th {\n        vertical-align: top;\n    }\n\n    .dataframe thead th {\n        text-align: right;\n    }\n</style>\n<table border=\"1\" class=\"dataframe\">\n  <thead>\n    <tr style=\"text-align: right;\">\n      <th></th>\n      <th>path</th>\n      <th>label</th>\n      <th>landmarks</th>\n    </tr>\n  </thead>\n  <tbody>\n    <tr>\n      <th>0</th>\n      <td>Hand_Images/9/63.jpg</td>\n      <td>9</td>\n      <td>[[0.5170580744743347, 0.809934139251709], [0.6...</td>\n    </tr>\n    <tr>\n      <th>1</th>\n      <td>Hand_Images/9/189.jpg</td>\n      <td>9</td>\n      <td>[[0.5248645544052124, 0.803929328918457], [0.6...</td>\n    </tr>\n    <tr>\n      <th>2</th>\n      <td>Hand_Images/9/77.jpg</td>\n      <td>9</td>\n      <td>[[0.456834077835083, 0.8089044094085693], [0.4...</td>\n    </tr>\n    <tr>\n      <th>3</th>\n      <td>Hand_Images/9/162.jpg</td>\n      <td>9</td>\n      <td>[[0.4713541269302368, 0.8116728067398071], [0....</td>\n    </tr>\n    <tr>\n      <th>4</th>\n      <td>Hand_Images/9/176.jpg</td>\n      <td>9</td>\n      <td>[[0.49221348762512207, 0.8127002716064453], [0...</td>\n    </tr>\n  </tbody>\n</table>\n</div>"
     },
     "execution_count": 19,
     "metadata": {},
     "output_type": "execute_result"
    }
   ],
   "source": [
    "temp_df.head(5)"
   ],
   "metadata": {
    "collapsed": false,
    "ExecuteTime": {
     "end_time": "2023-06-09T16:35:22.246810Z",
     "start_time": "2023-06-09T16:35:22.245225Z"
    }
   }
  },
  {
   "cell_type": "code",
   "execution_count": 29,
   "outputs": [
    {
     "name": "stdout",
     "output_type": "stream",
     "text": [
      "                    path  label\n",
      "0  Hand_Images/11/63.jpg     11\n",
      "                   path  label\n",
      "0  Hand_Images/9/63.jpg      9\n",
      "                   path  label\n",
      "0  Hand_Images/1/63.jpg      1\n",
      "                    path  label\n",
      "0  Hand_Images/10/63.jpg     10\n",
      "                   path  label\n",
      "0  Hand_Images/6/63.jpg      6\n",
      "                   path  label\n",
      "0  Hand_Images/7/63.jpg      7\n",
      "                    path  label\n",
      "0  Hand_Images/12/63.jpg     12\n",
      "                   path  label\n",
      "0  Hand_Images/3/63.jpg      3\n",
      "                   path  label\n",
      "0  Hand_Images/2/63.jpg      2\n",
      "                   path  label\n",
      "0  Hand_Images/5/63.jpg      5\n",
      "                   path  label\n",
      "0  Hand_Images/4/63.jpg      4\n",
      "                   path  label\n",
      "0  Hand_Images/8/63.jpg      8\n"
     ]
    }
   ],
   "source": [
    "# process all\n",
    "for group in hand_pic_file:\n",
    "    name = group.split('.')[0][-1]\n",
    "    temp_df = pd.read_csv(group, header=None, names=['path', 'label'])\n",
    "    print(temp_df.head(1))\n",
    "    temp_df['landmarks'] = temp_df['path'].apply(gen_landmark)\n",
    "    temp_df.to_csv('hands_with_landmark/' + name + '.csv')"
   ],
   "metadata": {
    "collapsed": false,
    "ExecuteTime": {
     "end_time": "2023-06-09T16:44:52.407477Z",
     "start_time": "2023-06-09T16:44:04.059671Z"
    }
   }
  },
  {
   "cell_type": "code",
   "execution_count": 31,
   "outputs": [
    {
     "data": {
      "text/plain": "['hands_with_landmark/6.csv',\n 'hands_with_landmark/7.csv',\n 'hands_with_landmark/5.csv',\n 'hands_with_landmark/4.csv',\n 'hands_with_landmark/0.csv',\n 'hands_with_landmark/1.csv',\n 'hands_with_landmark/3.csv',\n 'hands_with_landmark/2.csv',\n 'hands_with_landmark/9.csv',\n 'hands_with_landmark/8.csv']"
     },
     "execution_count": 31,
     "metadata": {},
     "output_type": "execute_result"
    }
   ],
   "source": [
    "# 整合成一个完整的 csv\n",
    "landmk_path = 'hands_with_landmark'\n",
    "landmk_file = []\n",
    "\n",
    "# read each csv\n",
    "for dir in os.listdir(landmk_path):\n",
    "    if dir.endswith('.csv'):\n",
    "        landmk_file.append(landmk_path + '/' + dir)\n",
    "landmk_file"
   ],
   "metadata": {
    "collapsed": false,
    "ExecuteTime": {
     "end_time": "2023-06-09T16:51:29.462475Z",
     "start_time": "2023-06-09T16:51:29.459507Z"
    }
   }
  },
  {
   "cell_type": "code",
   "execution_count": 32,
   "outputs": [
    {
     "data": {
      "text/plain": "1971"
     },
     "execution_count": 32,
     "metadata": {},
     "output_type": "execute_result"
    }
   ],
   "source": [
    "# combine all\n",
    "df = pd.DataFrame()\n",
    "for file in landmk_file:\n",
    "    temp_df = pd.read_csv(file)\n",
    "    df = pd.concat([df, temp_df])\n",
    "len(df)"
   ],
   "metadata": {
    "collapsed": false,
    "ExecuteTime": {
     "end_time": "2023-06-09T16:51:48.201071Z",
     "start_time": "2023-06-09T16:51:48.162624Z"
    }
   }
  },
  {
   "cell_type": "code",
   "execution_count": 34,
   "outputs": [],
   "source": [
    "df.to_csv('all_hands_with_landmark.csv')"
   ],
   "metadata": {
    "collapsed": false,
    "ExecuteTime": {
     "end_time": "2023-06-09T17:07:12.200036Z",
     "start_time": "2023-06-09T17:07:12.161424Z"
    }
   }
  },
  {
   "cell_type": "code",
   "execution_count": 35,
   "outputs": [],
   "source": [
    "# 测试读取出来是啥\n",
    "df1 = pd.read_csv('all_hands_with_landmark.csv')"
   ],
   "metadata": {
    "collapsed": false,
    "ExecuteTime": {
     "end_time": "2023-06-09T17:07:24.216144Z",
     "start_time": "2023-06-09T17:07:24.195501Z"
    }
   }
  },
  {
   "cell_type": "code",
   "execution_count": 42,
   "outputs": [
    {
     "data": {
      "text/plain": "   Unnamed: 0.1  Unnamed: 0                  path  label  \\\n0             0           0  Hand_Images/1/63.jpg      1   \n\n                                           landmarks  \n0  [[0.7918168306350708, 0.7815876007080078], [0....  ",
      "text/html": "<div>\n<style scoped>\n    .dataframe tbody tr th:only-of-type {\n        vertical-align: middle;\n    }\n\n    .dataframe tbody tr th {\n        vertical-align: top;\n    }\n\n    .dataframe thead th {\n        text-align: right;\n    }\n</style>\n<table border=\"1\" class=\"dataframe\">\n  <thead>\n    <tr style=\"text-align: right;\">\n      <th></th>\n      <th>Unnamed: 0.1</th>\n      <th>Unnamed: 0</th>\n      <th>path</th>\n      <th>label</th>\n      <th>landmarks</th>\n    </tr>\n  </thead>\n  <tbody>\n    <tr>\n      <th>0</th>\n      <td>0</td>\n      <td>0</td>\n      <td>Hand_Images/1/63.jpg</td>\n      <td>1</td>\n      <td>[[0.7918168306350708, 0.7815876007080078], [0....</td>\n    </tr>\n  </tbody>\n</table>\n</div>"
     },
     "execution_count": 42,
     "metadata": {},
     "output_type": "execute_result"
    }
   ],
   "source": [
    "df1.head(1)"
   ],
   "metadata": {
    "collapsed": false,
    "ExecuteTime": {
     "end_time": "2023-06-09T17:08:18.344277Z",
     "start_time": "2023-06-09T17:08:18.340760Z"
    }
   }
  },
  {
   "cell_type": "code",
   "execution_count": 44,
   "outputs": [
    {
     "data": {
      "text/plain": "'[[0.7918168306350708, 0.7815876007080078], [0.5839449763298035, 0.7213780879974365], [0.4293332099914551, 0.5827925801277161], [0.31035321950912476, 0.4725973904132843], [0.24853959679603577, 0.37289172410964966], [0.7375969290733337, 0.4366193115711212], [0.536004900932312, 0.32950013875961304], [0.3620274066925049, 0.2944580018520355], [0.2412797510623932, 0.2881469428539276], [0.7643897533416748, 0.4483526647090912], [0.5431126952171326, 0.36049437522888184], [0.362041175365448, 0.3494122326374054], [0.2492367923259735, 0.3620624840259552], [0.7523307204246521, 0.4705721139907837], [0.5334916710853577, 0.40233638882637024], [0.3786269426345825, 0.39562317728996277], [0.2894189953804016, 0.40206795930862427], [0.7271759510040283, 0.4876178801059723], [0.5708699822425842, 0.4506855010986328], [0.47410643100738525, 0.457706093788147], [0.4263491630554199, 0.470018208026886]]'"
     },
     "execution_count": 44,
     "metadata": {},
     "output_type": "execute_result"
    }
   ],
   "source": [
    "a = df1.loc(1)['landmarks']\n",
    "a[0]"
   ],
   "metadata": {
    "collapsed": false,
    "ExecuteTime": {
     "end_time": "2023-06-09T17:08:48.310061Z",
     "start_time": "2023-06-09T17:08:48.305911Z"
    }
   }
  },
  {
   "cell_type": "code",
   "execution_count": 45,
   "outputs": [
    {
     "data": {
      "text/plain": "1"
     },
     "execution_count": 45,
     "metadata": {},
     "output_type": "execute_result"
    }
   ],
   "source": [
    "a = df1['label'][0]\n",
    "a"
   ],
   "metadata": {
    "collapsed": false,
    "ExecuteTime": {
     "end_time": "2023-06-09T17:09:15.550077Z",
     "start_time": "2023-06-09T17:09:15.544587Z"
    }
   }
  },
  {
   "cell_type": "code",
   "execution_count": null,
   "outputs": [],
   "source": [],
   "metadata": {
    "collapsed": false
   }
  }
 ],
 "metadata": {
  "kernelspec": {
   "display_name": "Python 3",
   "language": "python",
   "name": "python3"
  },
  "language_info": {
   "codemirror_mode": {
    "name": "ipython",
    "version": 2
   },
   "file_extension": ".py",
   "mimetype": "text/x-python",
   "name": "python",
   "nbconvert_exporter": "python",
   "pygments_lexer": "ipython2",
   "version": "2.7.6"
  }
 },
 "nbformat": 4,
 "nbformat_minor": 0
}
