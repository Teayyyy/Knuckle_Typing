{
 "cells": [
  {
   "cell_type": "markdown",
   "source": [
    "# 用于读取图片，并且找到其 Landmark"
   ],
   "metadata": {
    "collapsed": false
   }
  },
  {
   "cell_type": "code",
   "execution_count": 33,
   "outputs": [],
   "source": [
    "import os\n",
    "import cv2\n",
    "import mediapipe as mp\n",
    "from tensorflow.python.keras.models import load_model\n",
    "img_path = 'Image_Path_2'"
   ],
   "metadata": {
    "collapsed": false,
    "ExecuteTime": {
     "end_time": "2023-06-10T16:47:26.258039Z",
     "start_time": "2023-06-10T16:47:26.252685Z"
    }
   }
  },
  {
   "cell_type": "code",
   "execution_count": 34,
   "outputs": [],
   "source": [
    "hand_pic_file = []\n",
    "for dir in os.listdir(img_path):\n",
    "    hand_pic_file.append(img_path + '/' + dir)"
   ],
   "metadata": {
    "collapsed": false,
    "ExecuteTime": {
     "end_time": "2023-06-10T16:47:27.833731Z",
     "start_time": "2023-06-10T16:47:27.829555Z"
    }
   }
  },
  {
   "cell_type": "code",
   "execution_count": 35,
   "outputs": [],
   "source": [
    "# Initialize mediapipe\n",
    "mp_hands = mp.solutions.hands\n",
    "hands = mp_hands.Hands(max_num_hands=1, min_detection_confidence=0.7)"
   ],
   "metadata": {
    "collapsed": false,
    "ExecuteTime": {
     "end_time": "2023-06-10T16:47:29.574501Z",
     "start_time": "2023-06-10T16:47:29.570389Z"
    }
   }
  },
  {
   "cell_type": "code",
   "execution_count": 36,
   "outputs": [],
   "source": [
    "# Recognize Image and process hand landmark\n",
    "def gen_landmark(img_path):\n",
    "    img = cv2.imread(img_path, cv2.IMREAD_COLOR)\n",
    "    img = cv2.cvtColor(img, cv2.COLOR_BGRA2RGB)\n",
    "    result = hands.process(img)\n",
    "    landmark = []\n",
    "    if result.multi_hand_landmarks:\n",
    "        for handds_lmd in result.multi_hand_landmarks:\n",
    "            for lm in handds_lmd.landmark:\n",
    "                landmark.append([lm.x, lm.y])\n",
    "    return landmark"
   ],
   "metadata": {
    "collapsed": false,
    "ExecuteTime": {
     "end_time": "2023-06-10T16:47:29.952263Z",
     "start_time": "2023-06-10T16:47:29.949310Z"
    }
   }
  },
  {
   "cell_type": "code",
   "execution_count": 37,
   "outputs": [],
   "source": [
    "import pandas as pd"
   ],
   "metadata": {
    "collapsed": false,
    "ExecuteTime": {
     "end_time": "2023-06-10T16:47:31.791759Z",
     "start_time": "2023-06-10T16:47:31.785572Z"
    }
   }
  },
  {
   "cell_type": "code",
   "execution_count": 39,
   "outputs": [
    {
     "data": {
      "text/plain": "                               path  label\n0  ../Assets/Hand_Images_2/9/63.jpg      9\n1  ../Assets/Hand_Images_2/9/77.jpg      9\n2  ../Assets/Hand_Images_2/9/88.jpg      9\n3  ../Assets/Hand_Images_2/9/89.jpg      9",
      "text/html": "<div>\n<style scoped>\n    .dataframe tbody tr th:only-of-type {\n        vertical-align: middle;\n    }\n\n    .dataframe tbody tr th {\n        vertical-align: top;\n    }\n\n    .dataframe thead th {\n        text-align: right;\n    }\n</style>\n<table border=\"1\" class=\"dataframe\">\n  <thead>\n    <tr style=\"text-align: right;\">\n      <th></th>\n      <th>path</th>\n      <th>label</th>\n    </tr>\n  </thead>\n  <tbody>\n    <tr>\n      <th>0</th>\n      <td>../Assets/Hand_Images_2/9/63.jpg</td>\n      <td>9</td>\n    </tr>\n    <tr>\n      <th>1</th>\n      <td>../Assets/Hand_Images_2/9/77.jpg</td>\n      <td>9</td>\n    </tr>\n    <tr>\n      <th>2</th>\n      <td>../Assets/Hand_Images_2/9/88.jpg</td>\n      <td>9</td>\n    </tr>\n    <tr>\n      <th>3</th>\n      <td>../Assets/Hand_Images_2/9/89.jpg</td>\n      <td>9</td>\n    </tr>\n  </tbody>\n</table>\n</div>"
     },
     "execution_count": 39,
     "metadata": {},
     "output_type": "execute_result"
    }
   ],
   "source": [
    "temp_df = pd.read_csv('Image_Path_2/hand_image_path2.csv', header=None, names = ['path', 'label'])\n",
    "temp_df.head(4)"
   ],
   "metadata": {
    "collapsed": false,
    "ExecuteTime": {
     "end_time": "2023-06-10T16:47:45.998678Z",
     "start_time": "2023-06-10T16:47:45.994385Z"
    }
   }
  },
  {
   "cell_type": "code",
   "execution_count": 40,
   "outputs": [],
   "source": [
    "temp_df['landmarks'] = temp_df['path'].apply(gen_landmark)"
   ],
   "metadata": {
    "collapsed": false,
    "ExecuteTime": {
     "end_time": "2023-06-10T16:47:51.067401Z",
     "start_time": "2023-06-10T16:47:48.547328Z"
    }
   }
  },
  {
   "cell_type": "code",
   "execution_count": 41,
   "outputs": [
    {
     "data": {
      "text/plain": "                               path  label  \\\n0  ../Assets/Hand_Images_2/9/63.jpg      9   \n1  ../Assets/Hand_Images_2/9/77.jpg      9   \n2  ../Assets/Hand_Images_2/9/88.jpg      9   \n3  ../Assets/Hand_Images_2/9/89.jpg      9   \n4  ../Assets/Hand_Images_2/9/76.jpg      9   \n\n                                           landmarks  \n0  [[0.8363863229751587, 0.9015710353851318], [0....  \n1  [[0.8659679889678955, 0.8782624006271362], [0....  \n2  [[0.8484318256378174, 0.8602019548416138], [0....  \n3  [[0.8315421342849731, 0.8617171049118042], [0....  \n4  [[0.8387258052825928, 0.8647953271865845], [0....  ",
      "text/html": "<div>\n<style scoped>\n    .dataframe tbody tr th:only-of-type {\n        vertical-align: middle;\n    }\n\n    .dataframe tbody tr th {\n        vertical-align: top;\n    }\n\n    .dataframe thead th {\n        text-align: right;\n    }\n</style>\n<table border=\"1\" class=\"dataframe\">\n  <thead>\n    <tr style=\"text-align: right;\">\n      <th></th>\n      <th>path</th>\n      <th>label</th>\n      <th>landmarks</th>\n    </tr>\n  </thead>\n  <tbody>\n    <tr>\n      <th>0</th>\n      <td>../Assets/Hand_Images_2/9/63.jpg</td>\n      <td>9</td>\n      <td>[[0.8363863229751587, 0.9015710353851318], [0....</td>\n    </tr>\n    <tr>\n      <th>1</th>\n      <td>../Assets/Hand_Images_2/9/77.jpg</td>\n      <td>9</td>\n      <td>[[0.8659679889678955, 0.8782624006271362], [0....</td>\n    </tr>\n    <tr>\n      <th>2</th>\n      <td>../Assets/Hand_Images_2/9/88.jpg</td>\n      <td>9</td>\n      <td>[[0.8484318256378174, 0.8602019548416138], [0....</td>\n    </tr>\n    <tr>\n      <th>3</th>\n      <td>../Assets/Hand_Images_2/9/89.jpg</td>\n      <td>9</td>\n      <td>[[0.8315421342849731, 0.8617171049118042], [0....</td>\n    </tr>\n    <tr>\n      <th>4</th>\n      <td>../Assets/Hand_Images_2/9/76.jpg</td>\n      <td>9</td>\n      <td>[[0.8387258052825928, 0.8647953271865845], [0....</td>\n    </tr>\n  </tbody>\n</table>\n</div>"
     },
     "execution_count": 41,
     "metadata": {},
     "output_type": "execute_result"
    }
   ],
   "source": [
    "temp_df.head(5)"
   ],
   "metadata": {
    "collapsed": false,
    "ExecuteTime": {
     "end_time": "2023-06-10T16:47:51.708668Z",
     "start_time": "2023-06-10T16:47:51.692886Z"
    }
   }
  },
  {
   "cell_type": "code",
   "execution_count": 43,
   "outputs": [
    {
     "name": "stdout",
     "output_type": "stream",
     "text": [
      "Image_Path_2/hand_image_path3.csv\n",
      "                                path  label\n",
      "0  ../Assets/Hand_Images_2/11/63.jpg     11\n",
      "Image_Path_2/hand_image_path2.csv\n",
      "                               path  label\n",
      "0  ../Assets/Hand_Images_2/9/63.jpg      9\n",
      "Image_Path_2/hand_image_path6.csv\n",
      "                               path  label\n",
      "0  ../Assets/Hand_Images_2/1/63.jpg      1\n",
      "Image_Path_2/hand_image_path7.csv\n",
      "                                path  label\n",
      "0  ../Assets/Hand_Images_2/10/63.jpg     10\n",
      "Image_Path_2/hand_image_path5.csv\n",
      "                               path  label\n",
      "0  ../Assets/Hand_Images_2/6/63.jpg      6\n",
      "Image_Path_2/hand_image_path4.csv\n",
      "                               path  label\n",
      "0  ../Assets/Hand_Images_2/7/63.jpg      7\n",
      "Image_Path_2/hand_image_path11.csv\n",
      "                                path  label\n",
      "0  ../Assets/Hand_Images_2/12/63.jpg     12\n",
      "Image_Path_2/hand_image_path10.csv\n",
      "                               path  label\n",
      "0  ../Assets/Hand_Images_2/3/63.jpg      3\n",
      "Image_Path_2/hand_image_path12.csv\n",
      "                               path  label\n",
      "0  ../Assets/Hand_Images_2/2/63.jpg      2\n",
      "Image_Path_2/hand_image_path13.csv\n",
      "                               path  label\n",
      "0  ../Assets/Hand_Images_2/5/63.jpg      5\n",
      "Image_Path_2/hand_image_path9.csv\n",
      "                               path  label\n",
      "0  ../Assets/Hand_Images_2/4/63.jpg      4\n",
      "Image_Path_2/hand_image_path8.csv\n",
      "                               path  label\n",
      "0  ../Assets/Hand_Images_2/8/63.jpg      8\n"
     ]
    }
   ],
   "source": [
    "# process all\n",
    "count = 0\n",
    "for group in hand_pic_file:\n",
    "    if group.endswith('/.DS_Store'):\n",
    "        continue\n",
    "    count += 1\n",
    "    print(group)\n",
    "    name = count\n",
    "    temp_df = pd.read_csv(group, header=None, names=['path', 'label'])\n",
    "    print(temp_df.head(1))\n",
    "    temp_df['landmarks'] = temp_df['path'].apply(gen_landmark)\n",
    "    temp_df.to_csv('hands_with_landmark_2/' + str(name) + '.csv')"
   ],
   "metadata": {
    "collapsed": false,
    "ExecuteTime": {
     "end_time": "2023-06-10T16:48:49.798690Z",
     "start_time": "2023-06-10T16:48:14.727106Z"
    }
   }
  },
  {
   "cell_type": "code",
   "execution_count": 44,
   "outputs": [
    {
     "data": {
      "text/plain": "['hands_with_landmark_2/6.csv',\n 'hands_with_landmark_2/7.csv',\n 'hands_with_landmark_2/5.csv',\n 'hands_with_landmark_2/4.csv',\n 'hands_with_landmark_2/1.csv',\n 'hands_with_landmark_2/3.csv',\n 'hands_with_landmark_2/2.csv',\n 'hands_with_landmark_2/10.csv',\n 'hands_with_landmark_2/11.csv',\n 'hands_with_landmark_2/12.csv',\n 'hands_with_landmark_2/9.csv',\n 'hands_with_landmark_2/8.csv']"
     },
     "execution_count": 44,
     "metadata": {},
     "output_type": "execute_result"
    }
   ],
   "source": [
    "# 整合成一个完整的 csv\n",
    "landmk_path = 'hands_with_landmark_2'\n",
    "landmk_file = []\n",
    "\n",
    "# read each csv\n",
    "for dir in os.listdir(landmk_path):\n",
    "    if dir.endswith('.csv'):\n",
    "        landmk_file.append(landmk_path + '/' + dir)\n",
    "landmk_file"
   ],
   "metadata": {
    "collapsed": false,
    "ExecuteTime": {
     "end_time": "2023-06-10T16:48:57.667464Z",
     "start_time": "2023-06-10T16:48:57.663844Z"
    }
   }
  },
  {
   "cell_type": "code",
   "execution_count": 45,
   "outputs": [
    {
     "data": {
      "text/plain": "2166"
     },
     "execution_count": 45,
     "metadata": {},
     "output_type": "execute_result"
    }
   ],
   "source": [
    "# combine all\n",
    "df = pd.DataFrame()\n",
    "for file in landmk_file:\n",
    "    temp_df = pd.read_csv(file)\n",
    "    df = pd.concat([df, temp_df])\n",
    "len(df)"
   ],
   "metadata": {
    "collapsed": false,
    "ExecuteTime": {
     "end_time": "2023-06-10T16:49:01.104950Z",
     "start_time": "2023-06-10T16:49:01.065592Z"
    }
   }
  },
  {
   "cell_type": "code",
   "execution_count": 46,
   "outputs": [],
   "source": [
    "df.to_csv('all_hands_with_landmark_2.csv')"
   ],
   "metadata": {
    "collapsed": false,
    "ExecuteTime": {
     "end_time": "2023-06-10T16:49:08.802921Z",
     "start_time": "2023-06-10T16:49:08.763367Z"
    }
   }
  },
  {
   "cell_type": "code",
   "execution_count": 47,
   "outputs": [],
   "source": [
    "# 测试读取出来是啥\n",
    "df1 = pd.read_csv('all_hands_with_landmark_2.csv')"
   ],
   "metadata": {
    "collapsed": false,
    "ExecuteTime": {
     "end_time": "2023-06-10T16:49:12.739494Z",
     "start_time": "2023-06-10T16:49:12.717830Z"
    }
   }
  },
  {
   "cell_type": "code",
   "execution_count": 48,
   "outputs": [
    {
     "data": {
      "text/plain": "   Unnamed: 0.1  Unnamed: 0                              path  label  \\\n0             0           0  ../Assets/Hand_Images_2/7/63.jpg      7   \n\n                                           landmarks  \n0  [[0.7566980123519897, 0.8948291540145874], [0....  ",
      "text/html": "<div>\n<style scoped>\n    .dataframe tbody tr th:only-of-type {\n        vertical-align: middle;\n    }\n\n    .dataframe tbody tr th {\n        vertical-align: top;\n    }\n\n    .dataframe thead th {\n        text-align: right;\n    }\n</style>\n<table border=\"1\" class=\"dataframe\">\n  <thead>\n    <tr style=\"text-align: right;\">\n      <th></th>\n      <th>Unnamed: 0.1</th>\n      <th>Unnamed: 0</th>\n      <th>path</th>\n      <th>label</th>\n      <th>landmarks</th>\n    </tr>\n  </thead>\n  <tbody>\n    <tr>\n      <th>0</th>\n      <td>0</td>\n      <td>0</td>\n      <td>../Assets/Hand_Images_2/7/63.jpg</td>\n      <td>7</td>\n      <td>[[0.7566980123519897, 0.8948291540145874], [0....</td>\n    </tr>\n  </tbody>\n</table>\n</div>"
     },
     "execution_count": 48,
     "metadata": {},
     "output_type": "execute_result"
    }
   ],
   "source": [
    "df1.head(1)"
   ],
   "metadata": {
    "collapsed": false,
    "ExecuteTime": {
     "end_time": "2023-06-10T16:49:14.451292Z",
     "start_time": "2023-06-10T16:49:14.446955Z"
    }
   }
  },
  {
   "cell_type": "code",
   "execution_count": 49,
   "outputs": [
    {
     "data": {
      "text/plain": "'[[0.7566980123519897, 0.8948291540145874], [0.7899366617202759, 0.7151628136634827], [0.6707319617271423, 0.5712631344795227], [0.5058149099349976, 0.4808724522590637], [0.36788633465766907, 0.40969276428222656], [0.6478188037872314, 0.5207839012145996], [0.5775002241134644, 0.42164164781570435], [0.517688512802124, 0.37033092975616455], [0.464986115694046, 0.3311745524406433], [0.5309285521507263, 0.5461305379867554], [0.45254436135292053, 0.43519091606140137], [0.4129667282104492, 0.37648987770080566], [0.386112779378891, 0.3324735760688782], [0.43079009652137756, 0.5866842865943909], [0.3461741507053375, 0.47819194197654724], [0.33248016238212585, 0.41700994968414307], [0.32562947273254395, 0.3762671649456024], [0.34166812896728516, 0.6408334374427795], [0.2799109220504761, 0.5494993329048157], [0.2544479966163635, 0.48791253566741943], [0.24716563522815704, 0.4342607259750366]]'"
     },
     "execution_count": 49,
     "metadata": {},
     "output_type": "execute_result"
    }
   ],
   "source": [
    "a = df1.loc(1)['landmarks']\n",
    "a[0]"
   ],
   "metadata": {
    "collapsed": false,
    "ExecuteTime": {
     "end_time": "2023-06-10T16:49:14.637534Z",
     "start_time": "2023-06-10T16:49:14.633429Z"
    }
   }
  },
  {
   "cell_type": "code",
   "execution_count": 50,
   "outputs": [
    {
     "data": {
      "text/plain": "7"
     },
     "execution_count": 50,
     "metadata": {},
     "output_type": "execute_result"
    }
   ],
   "source": [
    "a = df1['label'][0]\n",
    "a"
   ],
   "metadata": {
    "collapsed": false,
    "ExecuteTime": {
     "end_time": "2023-06-10T16:49:14.922905Z",
     "start_time": "2023-06-10T16:49:14.917246Z"
    }
   }
  },
  {
   "cell_type": "code",
   "execution_count": 51,
   "outputs": [
    {
     "data": {
      "text/plain": "2166"
     },
     "execution_count": 51,
     "metadata": {},
     "output_type": "execute_result"
    }
   ],
   "source": [
    "len(df1['landmarks'])"
   ],
   "metadata": {
    "collapsed": false,
    "ExecuteTime": {
     "end_time": "2023-06-10T16:49:16.488647Z",
     "start_time": "2023-06-10T16:49:16.485Z"
    }
   }
  },
  {
   "cell_type": "code",
   "execution_count": null,
   "outputs": [],
   "source": [],
   "metadata": {
    "collapsed": false
   }
  }
 ],
 "metadata": {
  "kernelspec": {
   "display_name": "Python 3",
   "language": "python",
   "name": "python3"
  },
  "language_info": {
   "codemirror_mode": {
    "name": "ipython",
    "version": 2
   },
   "file_extension": ".py",
   "mimetype": "text/x-python",
   "name": "python",
   "nbconvert_exporter": "python",
   "pygments_lexer": "ipython2",
   "version": "2.7.6"
  }
 },
 "nbformat": 4,
 "nbformat_minor": 0
}
