{
 "cells": [
  {
   "cell_type": "markdown",
   "source": [
    "# Transform\n",
    "#### This file is to transform video to images, and recognize them into hand-landscape"
   ],
   "metadata": {
    "collapsed": false
   }
  },
  {
   "cell_type": "code",
   "execution_count": 7,
   "outputs": [],
   "source": [
    "import os\n",
    "import numpy as np\n",
    "import mediapipe\n",
    "import cv2\n",
    "from tensorflow.python.keras.models import load_model\n",
    "hand_video_path = '../Assets/Hand_Videos'"
   ],
   "metadata": {
    "collapsed": false,
    "ExecuteTime": {
     "end_time": "2023-06-09T16:03:25.508217Z",
     "start_time": "2023-06-09T16:03:25.502915Z"
    }
   }
  },
  {
   "cell_type": "code",
   "execution_count": 8,
   "outputs": [],
   "source": [
    "video_path = []\n",
    "for root, dirs, files in os.walk(hand_video_path):\n",
    "    for file in files:\n",
    "        if file.endswith('.MOV'):\n",
    "            video_path.append(os.path.join(root, file))"
   ],
   "metadata": {
    "collapsed": false,
    "ExecuteTime": {
     "end_time": "2023-06-09T16:03:25.759932Z",
     "start_time": "2023-06-09T16:03:25.755907Z"
    }
   }
  },
  {
   "cell_type": "code",
   "execution_count": 9,
   "outputs": [
    {
     "data": {
      "text/plain": "['../Assets/Hand_Videos/4.MOV',\n '../Assets/Hand_Videos/5.MOV',\n '../Assets/Hand_Videos/7.MOV',\n '../Assets/Hand_Videos/6.MOV',\n '../Assets/Hand_Videos/2.MOV',\n '../Assets/Hand_Videos/3.MOV',\n '../Assets/Hand_Videos/1.MOV',\n '../Assets/Hand_Videos/8.MOV',\n '../Assets/Hand_Videos/9.MOV',\n '../Assets/Hand_Videos/12.MOV',\n '../Assets/Hand_Videos/11.MOV',\n '../Assets/Hand_Videos/10.MOV']"
     },
     "execution_count": 9,
     "metadata": {},
     "output_type": "execute_result"
    }
   ],
   "source": [
    "video_path"
   ],
   "metadata": {
    "collapsed": false,
    "ExecuteTime": {
     "end_time": "2023-06-09T16:03:26.426547Z",
     "start_time": "2023-06-09T16:03:26.420381Z"
    }
   }
  },
  {
   "cell_type": "code",
   "execution_count": 11,
   "outputs": [],
   "source": [
    "# 将所有视频转成图片，在当前目录下创建以视频名称命名的文件夹，将每个视频的图片保存在相应的文件夹中\n",
    "for path in video_path:\n",
    "    # video_name = path.split('/')[-1].split('.')[0]\n",
    "    # os.mkdir(video_name)\n",
    "    # cap = cv2.VideoCapture(path)\n",
    "    # i = 0\n",
    "    # while True:\n",
    "    #     ret, frame = cap.read()\n",
    "    #     if ret:\n",
    "    #         cv2.imwrite(video_name + '/' + str(i) + '.jpg', frame)\n",
    "    #         i += 1\n",
    "    #     else:\n",
    "    #         break\n",
    "    # cap.release()\n",
    "    pass"
   ],
   "metadata": {
    "collapsed": false,
    "ExecuteTime": {
     "end_time": "2023-06-09T16:08:39.288055Z",
     "start_time": "2023-06-09T16:07:45.982082Z"
    }
   }
  },
  {
   "cell_type": "code",
   "execution_count": 24,
   "outputs": [],
   "source": [
    "# 读取 Hand_Images 下所有的文件夹，再从文件夹下读取所有的图片，保存到 pd.DataFrame 中\n",
    "import pandas as pd\n",
    "hand_image_path = 'Hand_Images'\n",
    "count = 0\n",
    "for root, dirs, files in os.walk(hand_image_path):\n",
    "    image_path = []\n",
    "    count += 1\n",
    "    for file in files:\n",
    "        if file != './DS_Store':\n",
    "            if file.endswith('.jpg'):\n",
    "                image_path.append(os.path.join(root, file))\n",
    "    # save to pd.DataFrame\n",
    "    df_temp = pd.DataFrame(image_path, columns=['image_path'])\n",
    "    # add label, which is directory name\n",
    "    df_temp['label'] = root.split('/')[-1]\n",
    "    df_temp.to_csv('hand_image_path{}.csv'.format(count), mode='a', header=False, index=False)"
   ],
   "metadata": {
    "collapsed": false,
    "ExecuteTime": {
     "end_time": "2023-06-09T16:17:35.015895Z",
     "start_time": "2023-06-09T16:17:34.992531Z"
    }
   }
  },
  {
   "cell_type": "code",
   "execution_count": 21,
   "outputs": [
    {
     "data": {
      "text/plain": "['Hand_Images/5/63.jpg',\n 'Hand_Images/5/189.jpg',\n 'Hand_Images/5/77.jpg',\n 'Hand_Images/5/162.jpg',\n 'Hand_Images/5/176.jpg',\n 'Hand_Images/5/88.jpg',\n 'Hand_Images/5/177.jpg',\n 'Hand_Images/5/89.jpg',\n 'Hand_Images/5/163.jpg',\n 'Hand_Images/5/188.jpg',\n 'Hand_Images/5/76.jpg',\n 'Hand_Images/5/62.jpg',\n 'Hand_Images/5/74.jpg',\n 'Hand_Images/5/60.jpg',\n 'Hand_Images/5/48.jpg',\n 'Hand_Images/5/149.jpg',\n 'Hand_Images/5/175.jpg',\n 'Hand_Images/5/161.jpg',\n 'Hand_Images/5/160.jpg',\n 'Hand_Images/5/174.jpg',\n 'Hand_Images/5/148.jpg',\n 'Hand_Images/5/49.jpg',\n 'Hand_Images/5/61.jpg',\n 'Hand_Images/5/75.jpg',\n 'Hand_Images/5/59.jpg',\n 'Hand_Images/5/71.jpg',\n 'Hand_Images/5/65.jpg',\n 'Hand_Images/5/170.jpg',\n 'Hand_Images/5/164.jpg',\n 'Hand_Images/5/158.jpg',\n 'Hand_Images/5/159.jpg',\n 'Hand_Images/5/165.jpg',\n 'Hand_Images/5/171.jpg',\n 'Hand_Images/5/64.jpg',\n 'Hand_Images/5/70.jpg',\n 'Hand_Images/5/58.jpg',\n 'Hand_Images/5/8.jpg',\n 'Hand_Images/5/66.jpg',\n 'Hand_Images/5/72.jpg',\n 'Hand_Images/5/167.jpg',\n 'Hand_Images/5/99.jpg',\n 'Hand_Images/5/173.jpg',\n 'Hand_Images/5/172.jpg',\n 'Hand_Images/5/166.jpg',\n 'Hand_Images/5/98.jpg',\n 'Hand_Images/5/73.jpg',\n 'Hand_Images/5/67.jpg',\n 'Hand_Images/5/9.jpg',\n 'Hand_Images/5/14.jpg',\n 'Hand_Images/5/28.jpg',\n 'Hand_Images/5/129.jpg',\n 'Hand_Images/5/101.jpg',\n 'Hand_Images/5/115.jpg',\n 'Hand_Images/5/114.jpg',\n 'Hand_Images/5/100.jpg',\n 'Hand_Images/5/128.jpg',\n 'Hand_Images/5/29.jpg',\n 'Hand_Images/5/15.jpg',\n 'Hand_Images/5/17.jpg',\n 'Hand_Images/5/116.jpg',\n 'Hand_Images/5/102.jpg',\n 'Hand_Images/5/103.jpg',\n 'Hand_Images/5/117.jpg',\n 'Hand_Images/5/16.jpg',\n 'Hand_Images/5/12.jpg',\n 'Hand_Images/5/113.jpg',\n 'Hand_Images/5/107.jpg',\n 'Hand_Images/5/106.jpg',\n 'Hand_Images/5/112.jpg',\n 'Hand_Images/5/13.jpg',\n 'Hand_Images/5/39.jpg',\n 'Hand_Images/5/11.jpg',\n 'Hand_Images/5/104.jpg',\n 'Hand_Images/5/110.jpg',\n 'Hand_Images/5/138.jpg',\n 'Hand_Images/5/139.jpg',\n 'Hand_Images/5/111.jpg',\n 'Hand_Images/5/105.jpg',\n 'Hand_Images/5/10.jpg',\n 'Hand_Images/5/38.jpg',\n 'Hand_Images/5/21.jpg',\n 'Hand_Images/5/35.jpg',\n 'Hand_Images/5/108.jpg',\n 'Hand_Images/5/120.jpg',\n 'Hand_Images/5/134.jpg',\n 'Hand_Images/5/135.jpg',\n 'Hand_Images/5/121.jpg',\n 'Hand_Images/5/109.jpg',\n 'Hand_Images/5/34.jpg',\n 'Hand_Images/5/20.jpg',\n 'Hand_Images/5/36.jpg',\n 'Hand_Images/5/22.jpg',\n 'Hand_Images/5/137.jpg',\n 'Hand_Images/5/123.jpg',\n 'Hand_Images/5/122.jpg',\n 'Hand_Images/5/136.jpg',\n 'Hand_Images/5/23.jpg',\n 'Hand_Images/5/37.jpg',\n 'Hand_Images/5/33.jpg',\n 'Hand_Images/5/27.jpg',\n 'Hand_Images/5/132.jpg',\n 'Hand_Images/5/126.jpg',\n 'Hand_Images/5/127.jpg',\n 'Hand_Images/5/133.jpg',\n 'Hand_Images/5/26.jpg',\n 'Hand_Images/5/32.jpg',\n 'Hand_Images/5/18.jpg',\n 'Hand_Images/5/24.jpg',\n 'Hand_Images/5/30.jpg',\n 'Hand_Images/5/125.jpg',\n 'Hand_Images/5/131.jpg',\n 'Hand_Images/5/119.jpg',\n 'Hand_Images/5/118.jpg',\n 'Hand_Images/5/130.jpg',\n 'Hand_Images/5/124.jpg',\n 'Hand_Images/5/31.jpg',\n 'Hand_Images/5/25.jpg',\n 'Hand_Images/5/19.jpg',\n 'Hand_Images/5/42.jpg',\n 'Hand_Images/5/4.jpg',\n 'Hand_Images/5/56.jpg',\n 'Hand_Images/5/180.jpg',\n 'Hand_Images/5/81.jpg',\n 'Hand_Images/5/95.jpg',\n 'Hand_Images/5/143.jpg',\n 'Hand_Images/5/157.jpg',\n 'Hand_Images/5/156.jpg',\n 'Hand_Images/5/142.jpg',\n 'Hand_Images/5/94.jpg',\n 'Hand_Images/5/80.jpg',\n 'Hand_Images/5/181.jpg',\n 'Hand_Images/5/5.jpg',\n 'Hand_Images/5/57.jpg',\n 'Hand_Images/5/43.jpg',\n 'Hand_Images/5/55.jpg',\n 'Hand_Images/5/7.jpg',\n 'Hand_Images/5/41.jpg',\n 'Hand_Images/5/69.jpg',\n 'Hand_Images/5/183.jpg',\n 'Hand_Images/5/96.jpg',\n 'Hand_Images/5/168.jpg',\n 'Hand_Images/5/82.jpg',\n 'Hand_Images/5/154.jpg',\n 'Hand_Images/5/140.jpg',\n 'Hand_Images/5/141.jpg',\n 'Hand_Images/5/155.jpg',\n 'Hand_Images/5/83.jpg',\n 'Hand_Images/5/97.jpg',\n 'Hand_Images/5/169.jpg',\n 'Hand_Images/5/182.jpg',\n 'Hand_Images/5/68.jpg',\n 'Hand_Images/5/40.jpg',\n 'Hand_Images/5/54.jpg',\n 'Hand_Images/5/6.jpg',\n 'Hand_Images/5/78.jpg',\n 'Hand_Images/5/186.jpg',\n 'Hand_Images/5/2.jpg',\n 'Hand_Images/5/50.jpg',\n 'Hand_Images/5/44.jpg',\n 'Hand_Images/5/151.jpg',\n 'Hand_Images/5/145.jpg',\n 'Hand_Images/5/93.jpg',\n 'Hand_Images/5/87.jpg',\n 'Hand_Images/5/179.jpg',\n 'Hand_Images/5/86.jpg',\n 'Hand_Images/5/178.jpg',\n 'Hand_Images/5/92.jpg',\n 'Hand_Images/5/144.jpg',\n 'Hand_Images/5/150.jpg',\n 'Hand_Images/5/45.jpg',\n 'Hand_Images/5/3.jpg',\n 'Hand_Images/5/51.jpg',\n 'Hand_Images/5/79.jpg',\n 'Hand_Images/5/187.jpg',\n 'Hand_Images/5/185.jpg',\n 'Hand_Images/5/47.jpg',\n 'Hand_Images/5/53.jpg',\n 'Hand_Images/5/1.jpg',\n 'Hand_Images/5/146.jpg',\n 'Hand_Images/5/152.jpg',\n 'Hand_Images/5/84.jpg',\n 'Hand_Images/5/90.jpg',\n 'Hand_Images/5/91.jpg',\n 'Hand_Images/5/85.jpg',\n 'Hand_Images/5/153.jpg',\n 'Hand_Images/5/147.jpg',\n 'Hand_Images/5/52.jpg',\n 'Hand_Images/5/0.jpg',\n 'Hand_Images/5/46.jpg',\n 'Hand_Images/5/190.jpg',\n 'Hand_Images/5/184.jpg']"
     },
     "execution_count": 21,
     "metadata": {},
     "output_type": "execute_result"
    }
   ],
   "source": [
    "image_path"
   ],
   "metadata": {
    "collapsed": false,
    "ExecuteTime": {
     "end_time": "2023-06-09T16:15:22.534375Z",
     "start_time": "2023-06-09T16:15:22.530581Z"
    }
   }
  },
  {
   "cell_type": "code",
   "execution_count": null,
   "outputs": [],
   "source": [],
   "metadata": {
    "collapsed": false
   }
  }
 ],
 "metadata": {
  "kernelspec": {
   "display_name": "Python 3",
   "language": "python",
   "name": "python3"
  },
  "language_info": {
   "codemirror_mode": {
    "name": "ipython",
    "version": 2
   },
   "file_extension": ".py",
   "mimetype": "text/x-python",
   "name": "python",
   "nbconvert_exporter": "python",
   "pygments_lexer": "ipython2",
   "version": "2.7.6"
  }
 },
 "nbformat": 4,
 "nbformat_minor": 0
}
