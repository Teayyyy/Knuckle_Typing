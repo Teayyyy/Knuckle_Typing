{
 "cells": [
  {
   "cell_type": "code",
   "execution_count": 1,
   "metadata": {
    "collapsed": true,
    "ExecuteTime": {
     "end_time": "2023-06-10T17:47:20.994540Z",
     "start_time": "2023-06-10T17:47:20.789118Z"
    }
   },
   "outputs": [],
   "source": [
    "import numpy as np\n",
    "import pandas as pd\n",
    "import ast"
   ]
  },
  {
   "cell_type": "code",
   "execution_count": 23,
   "outputs": [],
   "source": [
    "# Read in the data\n",
    "df = pd.read_csv('../Assets/all_hands_with_landmark.csv')"
   ],
   "metadata": {
    "collapsed": false,
    "ExecuteTime": {
     "end_time": "2023-06-10T17:54:53.249756Z",
     "start_time": "2023-06-10T17:54:53.210655Z"
    }
   }
  },
  {
   "cell_type": "code",
   "execution_count": 24,
   "outputs": [],
   "source": [
    "def normalize_landmark_direction(landmarks):\n",
    "    # 选择参考点的索引（这里假设参考点是第一个关键点）\n",
    "    landmarks = np.array(landmarks)\n",
    "    reference_point_idx = 0\n",
    "\n",
    "    # 获取参考点的坐标\n",
    "    reference_point = landmarks[reference_point_idx]\n",
    "\n",
    "    # 计算方向向量\n",
    "    direction_vectors = landmarks - reference_point\n",
    "\n",
    "    # 计算方向向量的长度\n",
    "    direction_lengths = np.linalg.norm(direction_vectors, axis=1)\n",
    "\n",
    "    # 规范化方向向量\n",
    "    normalized_directions = direction_vectors / direction_lengths[:, np.newaxis]\n",
    "\n",
    "    norm_list = normalized_directions.tolist()\n",
    "    norm_list[0] = [0, 0]\n",
    "\n",
    "    # 返回规范化后的landmark\n",
    "    return norm_list"
   ],
   "metadata": {
    "collapsed": false,
    "ExecuteTime": {
     "end_time": "2023-06-10T17:54:53.501011Z",
     "start_time": "2023-06-10T17:54:53.499630Z"
    }
   }
  },
  {
   "cell_type": "code",
   "execution_count": 25,
   "outputs": [],
   "source": [
    "# 选择参考点的索引（这里假设参考点是第一个关键点）\n",
    "df['landmarks'] = df['landmarks'].apply(ast.literal_eval)"
   ],
   "metadata": {
    "collapsed": false,
    "ExecuteTime": {
     "end_time": "2023-06-10T17:54:54.214191Z",
     "start_time": "2023-06-10T17:54:53.934201Z"
    }
   }
  },
  {
   "cell_type": "code",
   "execution_count": 26,
   "outputs": [],
   "source": [
    "df['landmarks'] = df['landmarks'].apply(normalize_landmark_direction)"
   ],
   "metadata": {
    "collapsed": false,
    "ExecuteTime": {
     "end_time": "2023-06-10T17:54:54.400565Z",
     "start_time": "2023-06-10T17:54:54.316528Z"
    }
   }
  },
  {
   "cell_type": "code",
   "execution_count": 27,
   "outputs": [
    {
     "data": {
      "text/plain": "0       [[0, 0], [0.25844512599113734, -0.966025940051...\n1       [[0, 0], [0.015602734724802307, -0.99987826992...\n2       [[0, 0], [0.10938789130385926, -0.993999139454...\n3       [[0, 0], [0.29976026737598704, -0.954014560739...\n4       [[0, 0], [0.1850859695642182, -0.9827223330475...\n                              ...                        \n4039    [[0, 0], [0.1495273422355133, -0.9887575910828...\n4040    [[0, 0], [0.18889873641318086, -0.981996571980...\n4041    [[0, 0], [-0.2049389960045081, -0.978774748303...\n4042    [[0, 0], [0.3041210532832995, -0.9526333948323...\n4043    [[0, 0], [0.32083491655873, -0.947135130969574...\nName: landmarks, Length: 4044, dtype: object"
     },
     "execution_count": 27,
     "metadata": {},
     "output_type": "execute_result"
    }
   ],
   "source": [
    "df['landmarks']"
   ],
   "metadata": {
    "collapsed": false,
    "ExecuteTime": {
     "end_time": "2023-06-10T17:54:55.376377Z",
     "start_time": "2023-06-10T17:54:55.373346Z"
    }
   }
  },
  {
   "cell_type": "code",
   "execution_count": 28,
   "outputs": [],
   "source": [
    "df.to_csv('../Assets/norm_all_hands_with_landmark_normalized.csv', index=False)"
   ],
   "metadata": {
    "collapsed": false,
    "ExecuteTime": {
     "end_time": "2023-06-10T17:55:02.936717Z",
     "start_time": "2023-06-10T17:55:02.809765Z"
    }
   }
  },
  {
   "cell_type": "code",
   "execution_count": null,
   "outputs": [],
   "source": [],
   "metadata": {
    "collapsed": false
   }
  }
 ],
 "metadata": {
  "kernelspec": {
   "display_name": "Python 3",
   "language": "python",
   "name": "python3"
  },
  "language_info": {
   "codemirror_mode": {
    "name": "ipython",
    "version": 2
   },
   "file_extension": ".py",
   "mimetype": "text/x-python",
   "name": "python",
   "nbconvert_exporter": "python",
   "pygments_lexer": "ipython2",
   "version": "2.7.6"
  }
 },
 "nbformat": 4,
 "nbformat_minor": 0
}
